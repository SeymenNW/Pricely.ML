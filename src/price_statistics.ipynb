{
 "cells": [
  {
   "cell_type": "markdown",
   "metadata": {},
   "source": [
    "Price Statistics."
   ]
  },
  {
   "cell_type": "code",
   "execution_count": 3,
   "metadata": {},
   "outputs": [
    {
     "name": "stdout",
     "output_type": "stream",
     "text": [
      "[3879 3949 3649 3949 3925 3949 3390 3949 3649 3739 3637 3549]\n"
     ]
    }
   ],
   "source": [
    "import numpy as np\n",
    "\n",
    "#Priser for Ryzen 7 7800X3D for de sidste 3 måneder pr.\n",
    "# PriceRunner https://www.pricerunner.dk/pl/40-3205665051/CPUs/AMD-Ryzen-7-7800X3D-4.2GHz-Socket-AM5-Box-Sammenlign-Priser\n",
    "prices_list = np.array([3879, 3949, 3649, 3949, 3925, 3949,3390,3949,3649,3739,3637,3549 ])\n",
    "print(prices_list)"
   ]
  }
 ],
 "metadata": {
  "kernelspec": {
   "display_name": ".venv",
   "language": "python",
   "name": "python3"
  },
  "language_info": {
   "codemirror_mode": {
    "name": "ipython",
    "version": 3
   },
   "file_extension": ".py",
   "mimetype": "text/x-python",
   "name": "python",
   "nbconvert_exporter": "python",
   "pygments_lexer": "ipython3",
   "version": "3.13.2"
  }
 },
 "nbformat": 4,
 "nbformat_minor": 2
}
